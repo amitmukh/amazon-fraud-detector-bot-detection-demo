{
 "cells": [
  {
   "cell_type": "markdown",
   "metadata": {},
   "source": [
    "## Test the model (fraudulent sign-up)"
   ]
  },
  {
   "cell_type": "code",
   "execution_count": null,
   "metadata": {},
   "outputs": [],
   "source": [
    "fraudDetector.get_event_prediction(\n",
    "detectorId = 'sample_detector',\n",
    "eventId = '802454d3-f7d8-482d-97e8-c4b6db9a0428',\n",
    "eventTypeName = 'sample_registration',\n",
    "eventTimestamp = '2020-07-13T23:18:21Z',\n",
    "entities = [{'entityType':'sample_customer', 'entityId':'12345'}],\n",
    "eventVariables = {\n",
    "    'email_address' : 'aiefjoj@exampledomain.com',\n",
    "    'ip_address' : '1.2.3.4',\n",
    "    'registration_time': '5000'\n",
    "}\n",
    ")"
   ]
  },
  {
   "cell_type": "markdown",
   "metadata": {},
   "source": [
    "This test uses a registration time of 5000 ms and returns therefore a high risk score (>950). Therefore, this is classified as a fraudulent registration. "
   ]
  },
  {
   "cell_type": "markdown",
   "metadata": {},
   "source": [
    "## Test the model (legitimate sign-up)"
   ]
  },
  {
   "cell_type": "code",
   "execution_count": null,
   "metadata": {},
   "outputs": [],
   "source": [
    "fraudDetector.get_event_prediction(\n",
    "detectorId = 'sample_detector',\n",
    "eventId = '802454d3-f7d8-482d-97e8-c4b6db9a0428',\n",
    "eventTypeName = 'sample_registration',\n",
    "eventTimestamp = '2020-07-13T23:18:21Z',\n",
    "entities = [{'entityType':'sample_customer', 'entityId':'12345'}],\n",
    "eventVariables = {\n",
    "    'email_address' : 'johndoe@exampledomain.com',\n",
    "    'ip_address' : '1.2.3.4',\n",
    "    'registration_time': '8000'\n",
    "}\n",
    ")"
   ]
  },
  {
   "cell_type": "markdown",
   "metadata": {},
   "source": [
    "This test uses a registration time of 8000 ms and returns therefore a low risk score (<950). Therefore, this is classified as a legitimate registration. "
   ]
  }
 ],
 "metadata": {
  "kernelspec": {
   "display_name": "conda_python3",
   "language": "python",
   "name": "conda_python3"
  },
  "language_info": {
   "codemirror_mode": {
    "name": "ipython",
    "version": 3
   },
   "file_extension": ".py",
   "mimetype": "text/x-python",
   "name": "python",
   "nbconvert_exporter": "python",
   "pygments_lexer": "ipython3",
   "version": "3.6.10"
  }
 },
 "nbformat": 4,
 "nbformat_minor": 4
}
